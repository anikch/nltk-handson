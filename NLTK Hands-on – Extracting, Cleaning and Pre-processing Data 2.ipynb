{
 "cells": [
  {
   "cell_type": "markdown",
   "id": "1dc06baf",
   "metadata": {},
   "source": [
    "1.Read the file “Brexit.docx” and write a function in Python named “GetNGrams” which takes a string and a number ‘n’ as input and returns n-grams from the string."
   ]
  },
  {
   "cell_type": "code",
   "execution_count": 4,
   "id": "8144a2de",
   "metadata": {},
   "outputs": [],
   "source": [
    "from docx import Document\n",
    "import nltk\n",
    "from nltk.tokenize import word_tokenize"
   ]
  },
  {
   "cell_type": "code",
   "execution_count": 13,
   "id": "df2ccd0a",
   "metadata": {},
   "outputs": [
    {
     "name": "stdout",
     "output_type": "stream",
     "text": [
      "Brexit is the impending  of the  (UK) from the  (EU). In a , a majority of British voters supported leaving the EU. On 29 March 2017, the  invoked . The  declares \"exit day\" to be 29 March 2019 at 11 p.m. ().Prime Minister  announced the government's intention not to seek permanent membership of the  or the  after leaving the EU and promised to  the  and incorporate existing  into . A new government department, the , was created in July 2016. officially started in June 2017, aiming to complete the withdrawal agreement by October 2018. In June 2018, the UK and the EU published a joint progress report outlining agreement on issues including ,  and Euratom.The UK joined the  (EC) in 1973, with membership confirmed by a . In the 1970s and 1980s, withdrawal from the EC was advocated mainly by Labour Party members and  figures. From the 1990s, the main advocates of withdrawal were the newly founded  (UKIP) and an increasing number of Eurosceptic  members. Prime Minister  held the referendum in fulfilment of a 2015 manifesto pledge. Cameron, who had campaigned for \"Remain\", resigned after the referendum result and was succeeded by Theresa May, who called a  less than a year later, in which she lost her overall majority. Her minority government is  by the .Six weeks after the referendum, the Bank of England introduced  and lower interest rates, thus allowing both  of  and a rise in inflation that outpaced wage growth for most of 2017. The drop in the value of sterling has been claimed to have been caused in part by hedge-fund managers betting on Brexit against polls predicting a narrow victory for the \"Remain\" camp. There is a broad consensus in existing economic research that Brexit is likely to reduce the UK's real  in the medium term and long term. There is also agreement among economists that the Brexit referendum itself damaged the economy in the subsequent two years. Studies on effects that have materialised since the referendum show annual losses of £404 for the average UK household, and losses between 1.3% and 2.1% of UK GDP. Brexit is likely to reduce immigration from  (EEA) countries to the UK, and poses challenges for UK higher education and academic research. As of June 2018, the size of the \"\", the UK's inheritance of existing EU trade agreements, and  and other EU member states remain uncertain. The precise impact on the UK depends on whether the process will be a .\n"
     ]
    }
   ],
   "source": [
    "# Reading Brexit.docx\n",
    "doc= Document('Brexit.docx')\n",
    "txt=''\n",
    "for para in doc.paragraphs:\n",
    "    txt+= para.text\n",
    "print(txt)"
   ]
  },
  {
   "cell_type": "code",
   "execution_count": 9,
   "id": "e3ad8d84",
   "metadata": {},
   "outputs": [],
   "source": [
    "# Defining n-grams function\n",
    "def GetNGrams(n, txt):\n",
    "    word_tok= word_tokenize(txt)\n",
    "    n_grams= nltk.ngrams(word_tok, n)\n",
    "    return list(n_grams)"
   ]
  },
  {
   "cell_type": "code",
   "execution_count": 14,
   "id": "73374fac",
   "metadata": {},
   "outputs": [
    {
     "data": {
      "text/plain": [
       "[('John', 'met', 'with'), ('met', 'with', 'an'), ('with', 'an', 'accident')]"
      ]
     },
     "execution_count": 14,
     "metadata": {},
     "output_type": "execute_result"
    }
   ],
   "source": [
    "# Testing on example string\n",
    "test= 'John met with an accident'\n",
    "GetNGrams(3, test)"
   ]
  },
  {
   "cell_type": "code",
   "execution_count": 20,
   "id": "bf8d7310",
   "metadata": {},
   "outputs": [
    {
     "name": "stdout",
     "output_type": "stream",
     "text": [
      "n-grams with n=2 [('Brexit', 'is'), ('is', 'the'), ('the', 'impending'), ('impending', 'of'), ('of', 'the'), ('the', '('), ('(', 'UK'), ('UK', ')'), (')', 'from'), ('from', 'the'), ('the', '('), ('(', 'EU'), ('EU', ')'), (')', '.'), ('.', 'In'), ('In', 'a'), ('a', ','), (',', 'a'), ('a', 'majority'), ('majority', 'of'), ('of', 'British'), ('British', 'voters'), ('voters', 'supported'), ('supported', 'leaving'), ('leaving', 'the'), ('the', 'EU'), ('EU', '.'), ('.', 'On'), ('On', '29'), ('29', 'March'), ('March', '2017'), ('2017', ','), (',', 'the'), ('the', 'invoked'), ('invoked', '.'), ('.', 'The'), ('The', 'declares'), ('declares', '``'), ('``', 'exit'), ('exit', 'day'), ('day', \"''\"), (\"''\", 'to'), ('to', 'be'), ('be', '29'), ('29', 'March'), ('March', '2019'), ('2019', 'at'), ('at', '11'), ('11', 'p.m.'), ('p.m.', '('), ('(', ')'), (')', '.Prime'), ('.Prime', 'Minister'), ('Minister', 'announced'), ('announced', 'the'), ('the', 'government'), ('government', \"'s\"), (\"'s\", 'intention'), ('intention', 'not'), ('not', 'to'), ('to', 'seek'), ('seek', 'permanent'), ('permanent', 'membership'), ('membership', 'of'), ('of', 'the'), ('the', 'or'), ('or', 'the'), ('the', 'after'), ('after', 'leaving'), ('leaving', 'the'), ('the', 'EU'), ('EU', 'and'), ('and', 'promised'), ('promised', 'to'), ('to', 'the'), ('the', 'and'), ('and', 'incorporate'), ('incorporate', 'existing'), ('existing', 'into'), ('into', '.'), ('.', 'A'), ('A', 'new'), ('new', 'government'), ('government', 'department'), ('department', ','), (',', 'the'), ('the', ','), (',', 'was'), ('was', 'created'), ('created', 'in'), ('in', 'July'), ('July', '2016.'), ('2016.', 'officially'), ('officially', 'started'), ('started', 'in'), ('in', 'June'), ('June', '2017'), ('2017', ','), (',', 'aiming'), ('aiming', 'to'), ('to', 'complete'), ('complete', 'the'), ('the', 'withdrawal'), ('withdrawal', 'agreement'), ('agreement', 'by'), ('by', 'October'), ('October', '2018'), ('2018', '.'), ('.', 'In'), ('In', 'June'), ('June', '2018'), ('2018', ','), (',', 'the'), ('the', 'UK'), ('UK', 'and'), ('and', 'the'), ('the', 'EU'), ('EU', 'published'), ('published', 'a'), ('a', 'joint'), ('joint', 'progress'), ('progress', 'report'), ('report', 'outlining'), ('outlining', 'agreement'), ('agreement', 'on'), ('on', 'issues'), ('issues', 'including'), ('including', ','), (',', 'and'), ('and', 'Euratom.The'), ('Euratom.The', 'UK'), ('UK', 'joined'), ('joined', 'the'), ('the', '('), ('(', 'EC'), ('EC', ')'), (')', 'in'), ('in', '1973'), ('1973', ','), (',', 'with'), ('with', 'membership'), ('membership', 'confirmed'), ('confirmed', 'by'), ('by', 'a'), ('a', '.'), ('.', 'In'), ('In', 'the'), ('the', '1970s'), ('1970s', 'and'), ('and', '1980s'), ('1980s', ','), (',', 'withdrawal'), ('withdrawal', 'from'), ('from', 'the'), ('the', 'EC'), ('EC', 'was'), ('was', 'advocated'), ('advocated', 'mainly'), ('mainly', 'by'), ('by', 'Labour'), ('Labour', 'Party'), ('Party', 'members'), ('members', 'and'), ('and', 'figures'), ('figures', '.'), ('.', 'From'), ('From', 'the'), ('the', '1990s'), ('1990s', ','), (',', 'the'), ('the', 'main'), ('main', 'advocates'), ('advocates', 'of'), ('of', 'withdrawal'), ('withdrawal', 'were'), ('were', 'the'), ('the', 'newly'), ('newly', 'founded'), ('founded', '('), ('(', 'UKIP'), ('UKIP', ')'), (')', 'and'), ('and', 'an'), ('an', 'increasing'), ('increasing', 'number'), ('number', 'of'), ('of', 'Eurosceptic'), ('Eurosceptic', 'members'), ('members', '.'), ('.', 'Prime'), ('Prime', 'Minister'), ('Minister', 'held'), ('held', 'the'), ('the', 'referendum'), ('referendum', 'in'), ('in', 'fulfilment'), ('fulfilment', 'of'), ('of', 'a'), ('a', '2015'), ('2015', 'manifesto'), ('manifesto', 'pledge'), ('pledge', '.'), ('.', 'Cameron'), ('Cameron', ','), (',', 'who'), ('who', 'had'), ('had', 'campaigned'), ('campaigned', 'for'), ('for', '``'), ('``', 'Remain'), ('Remain', \"''\"), (\"''\", ','), (',', 'resigned'), ('resigned', 'after'), ('after', 'the'), ('the', 'referendum'), ('referendum', 'result'), ('result', 'and'), ('and', 'was'), ('was', 'succeeded'), ('succeeded', 'by'), ('by', 'Theresa'), ('Theresa', 'May'), ('May', ','), (',', 'who'), ('who', 'called'), ('called', 'a'), ('a', 'less'), ('less', 'than'), ('than', 'a'), ('a', 'year'), ('year', 'later'), ('later', ','), (',', 'in'), ('in', 'which'), ('which', 'she'), ('she', 'lost'), ('lost', 'her'), ('her', 'overall'), ('overall', 'majority'), ('majority', '.'), ('.', 'Her'), ('Her', 'minority'), ('minority', 'government'), ('government', 'is'), ('is', 'by'), ('by', 'the'), ('the', '.Six'), ('.Six', 'weeks'), ('weeks', 'after'), ('after', 'the'), ('the', 'referendum'), ('referendum', ','), (',', 'the'), ('the', 'Bank'), ('Bank', 'of'), ('of', 'England'), ('England', 'introduced'), ('introduced', 'and'), ('and', 'lower'), ('lower', 'interest'), ('interest', 'rates'), ('rates', ','), (',', 'thus'), ('thus', 'allowing'), ('allowing', 'both'), ('both', 'of'), ('of', 'and'), ('and', 'a'), ('a', 'rise'), ('rise', 'in'), ('in', 'inflation'), ('inflation', 'that'), ('that', 'outpaced'), ('outpaced', 'wage'), ('wage', 'growth'), ('growth', 'for'), ('for', 'most'), ('most', 'of'), ('of', '2017'), ('2017', '.'), ('.', 'The'), ('The', 'drop'), ('drop', 'in'), ('in', 'the'), ('the', 'value'), ('value', 'of'), ('of', 'sterling'), ('sterling', 'has'), ('has', 'been'), ('been', 'claimed'), ('claimed', 'to'), ('to', 'have'), ('have', 'been'), ('been', 'caused'), ('caused', 'in'), ('in', 'part'), ('part', 'by'), ('by', 'hedge-fund'), ('hedge-fund', 'managers'), ('managers', 'betting'), ('betting', 'on'), ('on', 'Brexit'), ('Brexit', 'against'), ('against', 'polls'), ('polls', 'predicting'), ('predicting', 'a'), ('a', 'narrow'), ('narrow', 'victory'), ('victory', 'for'), ('for', 'the'), ('the', '``'), ('``', 'Remain'), ('Remain', \"''\"), (\"''\", 'camp'), ('camp', '.'), ('.', 'There'), ('There', 'is'), ('is', 'a'), ('a', 'broad'), ('broad', 'consensus'), ('consensus', 'in'), ('in', 'existing'), ('existing', 'economic'), ('economic', 'research'), ('research', 'that'), ('that', 'Brexit'), ('Brexit', 'is'), ('is', 'likely'), ('likely', 'to'), ('to', 'reduce'), ('reduce', 'the'), ('the', 'UK'), ('UK', \"'s\"), (\"'s\", 'real'), ('real', 'in'), ('in', 'the'), ('the', 'medium'), ('medium', 'term'), ('term', 'and'), ('and', 'long'), ('long', 'term'), ('term', '.'), ('.', 'There'), ('There', 'is'), ('is', 'also'), ('also', 'agreement'), ('agreement', 'among'), ('among', 'economists'), ('economists', 'that'), ('that', 'the'), ('the', 'Brexit'), ('Brexit', 'referendum'), ('referendum', 'itself'), ('itself', 'damaged'), ('damaged', 'the'), ('the', 'economy'), ('economy', 'in'), ('in', 'the'), ('the', 'subsequent'), ('subsequent', 'two'), ('two', 'years'), ('years', '.'), ('.', 'Studies'), ('Studies', 'on'), ('on', 'effects'), ('effects', 'that'), ('that', 'have'), ('have', 'materialised'), ('materialised', 'since'), ('since', 'the'), ('the', 'referendum'), ('referendum', 'show'), ('show', 'annual'), ('annual', 'losses'), ('losses', 'of'), ('of', '£404'), ('£404', 'for'), ('for', 'the'), ('the', 'average'), ('average', 'UK'), ('UK', 'household'), ('household', ','), (',', 'and'), ('and', 'losses'), ('losses', 'between'), ('between', '1.3'), ('1.3', '%'), ('%', 'and'), ('and', '2.1'), ('2.1', '%'), ('%', 'of'), ('of', 'UK'), ('UK', 'GDP'), ('GDP', '.'), ('.', 'Brexit'), ('Brexit', 'is'), ('is', 'likely'), ('likely', 'to'), ('to', 'reduce'), ('reduce', 'immigration'), ('immigration', 'from'), ('from', '('), ('(', 'EEA'), ('EEA', ')'), (')', 'countries'), ('countries', 'to'), ('to', 'the'), ('the', 'UK'), ('UK', ','), (',', 'and'), ('and', 'poses'), ('poses', 'challenges'), ('challenges', 'for'), ('for', 'UK'), ('UK', 'higher'), ('higher', 'education'), ('education', 'and'), ('and', 'academic'), ('academic', 'research'), ('research', '.'), ('.', 'As'), ('As', 'of'), ('of', 'June'), ('June', '2018'), ('2018', ','), (',', 'the'), ('the', 'size'), ('size', 'of'), ('of', 'the'), ('the', '``'), ('``', \"''\"), (\"''\", ','), (',', 'the'), ('the', 'UK'), ('UK', \"'s\"), (\"'s\", 'inheritance'), ('inheritance', 'of'), ('of', 'existing'), ('existing', 'EU'), ('EU', 'trade'), ('trade', 'agreements'), ('agreements', ','), (',', 'and'), ('and', 'and'), ('and', 'other'), ('other', 'EU'), ('EU', 'member'), ('member', 'states'), ('states', 'remain'), ('remain', 'uncertain'), ('uncertain', '.'), ('.', 'The'), ('The', 'precise'), ('precise', 'impact'), ('impact', 'on'), ('on', 'the'), ('the', 'UK'), ('UK', 'depends'), ('depends', 'on'), ('on', 'whether'), ('whether', 'the'), ('the', 'process'), ('process', 'will'), ('will', 'be'), ('be', 'a'), ('a', '.')]\n",
      "####################################################################################################\n",
      "n-grams with n=3 [('Brexit', 'is', 'the'), ('is', 'the', 'impending'), ('the', 'impending', 'of'), ('impending', 'of', 'the'), ('of', 'the', '('), ('the', '(', 'UK'), ('(', 'UK', ')'), ('UK', ')', 'from'), (')', 'from', 'the'), ('from', 'the', '('), ('the', '(', 'EU'), ('(', 'EU', ')'), ('EU', ')', '.'), (')', '.', 'In'), ('.', 'In', 'a'), ('In', 'a', ','), ('a', ',', 'a'), (',', 'a', 'majority'), ('a', 'majority', 'of'), ('majority', 'of', 'British'), ('of', 'British', 'voters'), ('British', 'voters', 'supported'), ('voters', 'supported', 'leaving'), ('supported', 'leaving', 'the'), ('leaving', 'the', 'EU'), ('the', 'EU', '.'), ('EU', '.', 'On'), ('.', 'On', '29'), ('On', '29', 'March'), ('29', 'March', '2017'), ('March', '2017', ','), ('2017', ',', 'the'), (',', 'the', 'invoked'), ('the', 'invoked', '.'), ('invoked', '.', 'The'), ('.', 'The', 'declares'), ('The', 'declares', '``'), ('declares', '``', 'exit'), ('``', 'exit', 'day'), ('exit', 'day', \"''\"), ('day', \"''\", 'to'), (\"''\", 'to', 'be'), ('to', 'be', '29'), ('be', '29', 'March'), ('29', 'March', '2019'), ('March', '2019', 'at'), ('2019', 'at', '11'), ('at', '11', 'p.m.'), ('11', 'p.m.', '('), ('p.m.', '(', ')'), ('(', ')', '.Prime'), (')', '.Prime', 'Minister'), ('.Prime', 'Minister', 'announced'), ('Minister', 'announced', 'the'), ('announced', 'the', 'government'), ('the', 'government', \"'s\"), ('government', \"'s\", 'intention'), (\"'s\", 'intention', 'not'), ('intention', 'not', 'to'), ('not', 'to', 'seek'), ('to', 'seek', 'permanent'), ('seek', 'permanent', 'membership'), ('permanent', 'membership', 'of'), ('membership', 'of', 'the'), ('of', 'the', 'or'), ('the', 'or', 'the'), ('or', 'the', 'after'), ('the', 'after', 'leaving'), ('after', 'leaving', 'the'), ('leaving', 'the', 'EU'), ('the', 'EU', 'and'), ('EU', 'and', 'promised'), ('and', 'promised', 'to'), ('promised', 'to', 'the'), ('to', 'the', 'and'), ('the', 'and', 'incorporate'), ('and', 'incorporate', 'existing'), ('incorporate', 'existing', 'into'), ('existing', 'into', '.'), ('into', '.', 'A'), ('.', 'A', 'new'), ('A', 'new', 'government'), ('new', 'government', 'department'), ('government', 'department', ','), ('department', ',', 'the'), (',', 'the', ','), ('the', ',', 'was'), (',', 'was', 'created'), ('was', 'created', 'in'), ('created', 'in', 'July'), ('in', 'July', '2016.'), ('July', '2016.', 'officially'), ('2016.', 'officially', 'started'), ('officially', 'started', 'in'), ('started', 'in', 'June'), ('in', 'June', '2017'), ('June', '2017', ','), ('2017', ',', 'aiming'), (',', 'aiming', 'to'), ('aiming', 'to', 'complete'), ('to', 'complete', 'the'), ('complete', 'the', 'withdrawal'), ('the', 'withdrawal', 'agreement'), ('withdrawal', 'agreement', 'by'), ('agreement', 'by', 'October'), ('by', 'October', '2018'), ('October', '2018', '.'), ('2018', '.', 'In'), ('.', 'In', 'June'), ('In', 'June', '2018'), ('June', '2018', ','), ('2018', ',', 'the'), (',', 'the', 'UK'), ('the', 'UK', 'and'), ('UK', 'and', 'the'), ('and', 'the', 'EU'), ('the', 'EU', 'published'), ('EU', 'published', 'a'), ('published', 'a', 'joint'), ('a', 'joint', 'progress'), ('joint', 'progress', 'report'), ('progress', 'report', 'outlining'), ('report', 'outlining', 'agreement'), ('outlining', 'agreement', 'on'), ('agreement', 'on', 'issues'), ('on', 'issues', 'including'), ('issues', 'including', ','), ('including', ',', 'and'), (',', 'and', 'Euratom.The'), ('and', 'Euratom.The', 'UK'), ('Euratom.The', 'UK', 'joined'), ('UK', 'joined', 'the'), ('joined', 'the', '('), ('the', '(', 'EC'), ('(', 'EC', ')'), ('EC', ')', 'in'), (')', 'in', '1973'), ('in', '1973', ','), ('1973', ',', 'with'), (',', 'with', 'membership'), ('with', 'membership', 'confirmed'), ('membership', 'confirmed', 'by'), ('confirmed', 'by', 'a'), ('by', 'a', '.'), ('a', '.', 'In'), ('.', 'In', 'the'), ('In', 'the', '1970s'), ('the', '1970s', 'and'), ('1970s', 'and', '1980s'), ('and', '1980s', ','), ('1980s', ',', 'withdrawal'), (',', 'withdrawal', 'from'), ('withdrawal', 'from', 'the'), ('from', 'the', 'EC'), ('the', 'EC', 'was'), ('EC', 'was', 'advocated'), ('was', 'advocated', 'mainly'), ('advocated', 'mainly', 'by'), ('mainly', 'by', 'Labour'), ('by', 'Labour', 'Party'), ('Labour', 'Party', 'members'), ('Party', 'members', 'and'), ('members', 'and', 'figures'), ('and', 'figures', '.'), ('figures', '.', 'From'), ('.', 'From', 'the'), ('From', 'the', '1990s'), ('the', '1990s', ','), ('1990s', ',', 'the'), (',', 'the', 'main'), ('the', 'main', 'advocates'), ('main', 'advocates', 'of'), ('advocates', 'of', 'withdrawal'), ('of', 'withdrawal', 'were'), ('withdrawal', 'were', 'the'), ('were', 'the', 'newly'), ('the', 'newly', 'founded'), ('newly', 'founded', '('), ('founded', '(', 'UKIP'), ('(', 'UKIP', ')'), ('UKIP', ')', 'and'), (')', 'and', 'an'), ('and', 'an', 'increasing'), ('an', 'increasing', 'number'), ('increasing', 'number', 'of'), ('number', 'of', 'Eurosceptic'), ('of', 'Eurosceptic', 'members'), ('Eurosceptic', 'members', '.'), ('members', '.', 'Prime'), ('.', 'Prime', 'Minister'), ('Prime', 'Minister', 'held'), ('Minister', 'held', 'the'), ('held', 'the', 'referendum'), ('the', 'referendum', 'in'), ('referendum', 'in', 'fulfilment'), ('in', 'fulfilment', 'of'), ('fulfilment', 'of', 'a'), ('of', 'a', '2015'), ('a', '2015', 'manifesto'), ('2015', 'manifesto', 'pledge'), ('manifesto', 'pledge', '.'), ('pledge', '.', 'Cameron'), ('.', 'Cameron', ','), ('Cameron', ',', 'who'), (',', 'who', 'had'), ('who', 'had', 'campaigned'), ('had', 'campaigned', 'for'), ('campaigned', 'for', '``'), ('for', '``', 'Remain'), ('``', 'Remain', \"''\"), ('Remain', \"''\", ','), (\"''\", ',', 'resigned'), (',', 'resigned', 'after'), ('resigned', 'after', 'the'), ('after', 'the', 'referendum'), ('the', 'referendum', 'result'), ('referendum', 'result', 'and'), ('result', 'and', 'was'), ('and', 'was', 'succeeded'), ('was', 'succeeded', 'by'), ('succeeded', 'by', 'Theresa'), ('by', 'Theresa', 'May'), ('Theresa', 'May', ','), ('May', ',', 'who'), (',', 'who', 'called'), ('who', 'called', 'a'), ('called', 'a', 'less'), ('a', 'less', 'than'), ('less', 'than', 'a'), ('than', 'a', 'year'), ('a', 'year', 'later'), ('year', 'later', ','), ('later', ',', 'in'), (',', 'in', 'which'), ('in', 'which', 'she'), ('which', 'she', 'lost'), ('she', 'lost', 'her'), ('lost', 'her', 'overall'), ('her', 'overall', 'majority'), ('overall', 'majority', '.'), ('majority', '.', 'Her'), ('.', 'Her', 'minority'), ('Her', 'minority', 'government'), ('minority', 'government', 'is'), ('government', 'is', 'by'), ('is', 'by', 'the'), ('by', 'the', '.Six'), ('the', '.Six', 'weeks'), ('.Six', 'weeks', 'after'), ('weeks', 'after', 'the'), ('after', 'the', 'referendum'), ('the', 'referendum', ','), ('referendum', ',', 'the'), (',', 'the', 'Bank'), ('the', 'Bank', 'of'), ('Bank', 'of', 'England'), ('of', 'England', 'introduced'), ('England', 'introduced', 'and'), ('introduced', 'and', 'lower'), ('and', 'lower', 'interest'), ('lower', 'interest', 'rates'), ('interest', 'rates', ','), ('rates', ',', 'thus'), (',', 'thus', 'allowing'), ('thus', 'allowing', 'both'), ('allowing', 'both', 'of'), ('both', 'of', 'and'), ('of', 'and', 'a'), ('and', 'a', 'rise'), ('a', 'rise', 'in'), ('rise', 'in', 'inflation'), ('in', 'inflation', 'that'), ('inflation', 'that', 'outpaced'), ('that', 'outpaced', 'wage'), ('outpaced', 'wage', 'growth'), ('wage', 'growth', 'for'), ('growth', 'for', 'most'), ('for', 'most', 'of'), ('most', 'of', '2017'), ('of', '2017', '.'), ('2017', '.', 'The'), ('.', 'The', 'drop'), ('The', 'drop', 'in'), ('drop', 'in', 'the'), ('in', 'the', 'value'), ('the', 'value', 'of'), ('value', 'of', 'sterling'), ('of', 'sterling', 'has'), ('sterling', 'has', 'been'), ('has', 'been', 'claimed'), ('been', 'claimed', 'to'), ('claimed', 'to', 'have'), ('to', 'have', 'been'), ('have', 'been', 'caused'), ('been', 'caused', 'in'), ('caused', 'in', 'part'), ('in', 'part', 'by'), ('part', 'by', 'hedge-fund'), ('by', 'hedge-fund', 'managers'), ('hedge-fund', 'managers', 'betting'), ('managers', 'betting', 'on'), ('betting', 'on', 'Brexit'), ('on', 'Brexit', 'against'), ('Brexit', 'against', 'polls'), ('against', 'polls', 'predicting'), ('polls', 'predicting', 'a'), ('predicting', 'a', 'narrow'), ('a', 'narrow', 'victory'), ('narrow', 'victory', 'for'), ('victory', 'for', 'the'), ('for', 'the', '``'), ('the', '``', 'Remain'), ('``', 'Remain', \"''\"), ('Remain', \"''\", 'camp'), (\"''\", 'camp', '.'), ('camp', '.', 'There'), ('.', 'There', 'is'), ('There', 'is', 'a'), ('is', 'a', 'broad'), ('a', 'broad', 'consensus'), ('broad', 'consensus', 'in'), ('consensus', 'in', 'existing'), ('in', 'existing', 'economic'), ('existing', 'economic', 'research'), ('economic', 'research', 'that'), ('research', 'that', 'Brexit'), ('that', 'Brexit', 'is'), ('Brexit', 'is', 'likely'), ('is', 'likely', 'to'), ('likely', 'to', 'reduce'), ('to', 'reduce', 'the'), ('reduce', 'the', 'UK'), ('the', 'UK', \"'s\"), ('UK', \"'s\", 'real'), (\"'s\", 'real', 'in'), ('real', 'in', 'the'), ('in', 'the', 'medium'), ('the', 'medium', 'term'), ('medium', 'term', 'and'), ('term', 'and', 'long'), ('and', 'long', 'term'), ('long', 'term', '.'), ('term', '.', 'There'), ('.', 'There', 'is'), ('There', 'is', 'also'), ('is', 'also', 'agreement'), ('also', 'agreement', 'among'), ('agreement', 'among', 'economists'), ('among', 'economists', 'that'), ('economists', 'that', 'the'), ('that', 'the', 'Brexit'), ('the', 'Brexit', 'referendum'), ('Brexit', 'referendum', 'itself'), ('referendum', 'itself', 'damaged'), ('itself', 'damaged', 'the'), ('damaged', 'the', 'economy'), ('the', 'economy', 'in'), ('economy', 'in', 'the'), ('in', 'the', 'subsequent'), ('the', 'subsequent', 'two'), ('subsequent', 'two', 'years'), ('two', 'years', '.'), ('years', '.', 'Studies'), ('.', 'Studies', 'on'), ('Studies', 'on', 'effects'), ('on', 'effects', 'that'), ('effects', 'that', 'have'), ('that', 'have', 'materialised'), ('have', 'materialised', 'since'), ('materialised', 'since', 'the'), ('since', 'the', 'referendum'), ('the', 'referendum', 'show'), ('referendum', 'show', 'annual'), ('show', 'annual', 'losses'), ('annual', 'losses', 'of'), ('losses', 'of', '£404'), ('of', '£404', 'for'), ('£404', 'for', 'the'), ('for', 'the', 'average'), ('the', 'average', 'UK'), ('average', 'UK', 'household'), ('UK', 'household', ','), ('household', ',', 'and'), (',', 'and', 'losses'), ('and', 'losses', 'between'), ('losses', 'between', '1.3'), ('between', '1.3', '%'), ('1.3', '%', 'and'), ('%', 'and', '2.1'), ('and', '2.1', '%'), ('2.1', '%', 'of'), ('%', 'of', 'UK'), ('of', 'UK', 'GDP'), ('UK', 'GDP', '.'), ('GDP', '.', 'Brexit'), ('.', 'Brexit', 'is'), ('Brexit', 'is', 'likely'), ('is', 'likely', 'to'), ('likely', 'to', 'reduce'), ('to', 'reduce', 'immigration'), ('reduce', 'immigration', 'from'), ('immigration', 'from', '('), ('from', '(', 'EEA'), ('(', 'EEA', ')'), ('EEA', ')', 'countries'), (')', 'countries', 'to'), ('countries', 'to', 'the'), ('to', 'the', 'UK'), ('the', 'UK', ','), ('UK', ',', 'and'), (',', 'and', 'poses'), ('and', 'poses', 'challenges'), ('poses', 'challenges', 'for'), ('challenges', 'for', 'UK'), ('for', 'UK', 'higher'), ('UK', 'higher', 'education'), ('higher', 'education', 'and'), ('education', 'and', 'academic'), ('and', 'academic', 'research'), ('academic', 'research', '.'), ('research', '.', 'As'), ('.', 'As', 'of'), ('As', 'of', 'June'), ('of', 'June', '2018'), ('June', '2018', ','), ('2018', ',', 'the'), (',', 'the', 'size'), ('the', 'size', 'of'), ('size', 'of', 'the'), ('of', 'the', '``'), ('the', '``', \"''\"), ('``', \"''\", ','), (\"''\", ',', 'the'), (',', 'the', 'UK'), ('the', 'UK', \"'s\"), ('UK', \"'s\", 'inheritance'), (\"'s\", 'inheritance', 'of'), ('inheritance', 'of', 'existing'), ('of', 'existing', 'EU'), ('existing', 'EU', 'trade'), ('EU', 'trade', 'agreements'), ('trade', 'agreements', ','), ('agreements', ',', 'and'), (',', 'and', 'and'), ('and', 'and', 'other'), ('and', 'other', 'EU'), ('other', 'EU', 'member'), ('EU', 'member', 'states'), ('member', 'states', 'remain'), ('states', 'remain', 'uncertain'), ('remain', 'uncertain', '.'), ('uncertain', '.', 'The'), ('.', 'The', 'precise'), ('The', 'precise', 'impact'), ('precise', 'impact', 'on'), ('impact', 'on', 'the'), ('on', 'the', 'UK'), ('the', 'UK', 'depends'), ('UK', 'depends', 'on'), ('depends', 'on', 'whether'), ('on', 'whether', 'the'), ('whether', 'the', 'process'), ('the', 'process', 'will'), ('process', 'will', 'be'), ('will', 'be', 'a'), ('be', 'a', '.')]\n",
      "####################################################################################################\n",
      "n-grams with n=4 [('Brexit', 'is', 'the', 'impending'), ('is', 'the', 'impending', 'of'), ('the', 'impending', 'of', 'the'), ('impending', 'of', 'the', '('), ('of', 'the', '(', 'UK'), ('the', '(', 'UK', ')'), ('(', 'UK', ')', 'from'), ('UK', ')', 'from', 'the'), (')', 'from', 'the', '('), ('from', 'the', '(', 'EU'), ('the', '(', 'EU', ')'), ('(', 'EU', ')', '.'), ('EU', ')', '.', 'In'), (')', '.', 'In', 'a'), ('.', 'In', 'a', ','), ('In', 'a', ',', 'a'), ('a', ',', 'a', 'majority'), (',', 'a', 'majority', 'of'), ('a', 'majority', 'of', 'British'), ('majority', 'of', 'British', 'voters'), ('of', 'British', 'voters', 'supported'), ('British', 'voters', 'supported', 'leaving'), ('voters', 'supported', 'leaving', 'the'), ('supported', 'leaving', 'the', 'EU'), ('leaving', 'the', 'EU', '.'), ('the', 'EU', '.', 'On'), ('EU', '.', 'On', '29'), ('.', 'On', '29', 'March'), ('On', '29', 'March', '2017'), ('29', 'March', '2017', ','), ('March', '2017', ',', 'the'), ('2017', ',', 'the', 'invoked'), (',', 'the', 'invoked', '.'), ('the', 'invoked', '.', 'The'), ('invoked', '.', 'The', 'declares'), ('.', 'The', 'declares', '``'), ('The', 'declares', '``', 'exit'), ('declares', '``', 'exit', 'day'), ('``', 'exit', 'day', \"''\"), ('exit', 'day', \"''\", 'to'), ('day', \"''\", 'to', 'be'), (\"''\", 'to', 'be', '29'), ('to', 'be', '29', 'March'), ('be', '29', 'March', '2019'), ('29', 'March', '2019', 'at'), ('March', '2019', 'at', '11'), ('2019', 'at', '11', 'p.m.'), ('at', '11', 'p.m.', '('), ('11', 'p.m.', '(', ')'), ('p.m.', '(', ')', '.Prime'), ('(', ')', '.Prime', 'Minister'), (')', '.Prime', 'Minister', 'announced'), ('.Prime', 'Minister', 'announced', 'the'), ('Minister', 'announced', 'the', 'government'), ('announced', 'the', 'government', \"'s\"), ('the', 'government', \"'s\", 'intention'), ('government', \"'s\", 'intention', 'not'), (\"'s\", 'intention', 'not', 'to'), ('intention', 'not', 'to', 'seek'), ('not', 'to', 'seek', 'permanent'), ('to', 'seek', 'permanent', 'membership'), ('seek', 'permanent', 'membership', 'of'), ('permanent', 'membership', 'of', 'the'), ('membership', 'of', 'the', 'or'), ('of', 'the', 'or', 'the'), ('the', 'or', 'the', 'after'), ('or', 'the', 'after', 'leaving'), ('the', 'after', 'leaving', 'the'), ('after', 'leaving', 'the', 'EU'), ('leaving', 'the', 'EU', 'and'), ('the', 'EU', 'and', 'promised'), ('EU', 'and', 'promised', 'to'), ('and', 'promised', 'to', 'the'), ('promised', 'to', 'the', 'and'), ('to', 'the', 'and', 'incorporate'), ('the', 'and', 'incorporate', 'existing'), ('and', 'incorporate', 'existing', 'into'), ('incorporate', 'existing', 'into', '.'), ('existing', 'into', '.', 'A'), ('into', '.', 'A', 'new'), ('.', 'A', 'new', 'government'), ('A', 'new', 'government', 'department'), ('new', 'government', 'department', ','), ('government', 'department', ',', 'the'), ('department', ',', 'the', ','), (',', 'the', ',', 'was'), ('the', ',', 'was', 'created'), (',', 'was', 'created', 'in'), ('was', 'created', 'in', 'July'), ('created', 'in', 'July', '2016.'), ('in', 'July', '2016.', 'officially'), ('July', '2016.', 'officially', 'started'), ('2016.', 'officially', 'started', 'in'), ('officially', 'started', 'in', 'June'), ('started', 'in', 'June', '2017'), ('in', 'June', '2017', ','), ('June', '2017', ',', 'aiming'), ('2017', ',', 'aiming', 'to'), (',', 'aiming', 'to', 'complete'), ('aiming', 'to', 'complete', 'the'), ('to', 'complete', 'the', 'withdrawal'), ('complete', 'the', 'withdrawal', 'agreement'), ('the', 'withdrawal', 'agreement', 'by'), ('withdrawal', 'agreement', 'by', 'October'), ('agreement', 'by', 'October', '2018'), ('by', 'October', '2018', '.'), ('October', '2018', '.', 'In'), ('2018', '.', 'In', 'June'), ('.', 'In', 'June', '2018'), ('In', 'June', '2018', ','), ('June', '2018', ',', 'the'), ('2018', ',', 'the', 'UK'), (',', 'the', 'UK', 'and'), ('the', 'UK', 'and', 'the'), ('UK', 'and', 'the', 'EU'), ('and', 'the', 'EU', 'published'), ('the', 'EU', 'published', 'a'), ('EU', 'published', 'a', 'joint'), ('published', 'a', 'joint', 'progress'), ('a', 'joint', 'progress', 'report'), ('joint', 'progress', 'report', 'outlining'), ('progress', 'report', 'outlining', 'agreement'), ('report', 'outlining', 'agreement', 'on'), ('outlining', 'agreement', 'on', 'issues'), ('agreement', 'on', 'issues', 'including'), ('on', 'issues', 'including', ','), ('issues', 'including', ',', 'and'), ('including', ',', 'and', 'Euratom.The'), (',', 'and', 'Euratom.The', 'UK'), ('and', 'Euratom.The', 'UK', 'joined'), ('Euratom.The', 'UK', 'joined', 'the'), ('UK', 'joined', 'the', '('), ('joined', 'the', '(', 'EC'), ('the', '(', 'EC', ')'), ('(', 'EC', ')', 'in'), ('EC', ')', 'in', '1973'), (')', 'in', '1973', ','), ('in', '1973', ',', 'with'), ('1973', ',', 'with', 'membership'), (',', 'with', 'membership', 'confirmed'), ('with', 'membership', 'confirmed', 'by'), ('membership', 'confirmed', 'by', 'a'), ('confirmed', 'by', 'a', '.'), ('by', 'a', '.', 'In'), ('a', '.', 'In', 'the'), ('.', 'In', 'the', '1970s'), ('In', 'the', '1970s', 'and'), ('the', '1970s', 'and', '1980s'), ('1970s', 'and', '1980s', ','), ('and', '1980s', ',', 'withdrawal'), ('1980s', ',', 'withdrawal', 'from'), (',', 'withdrawal', 'from', 'the'), ('withdrawal', 'from', 'the', 'EC'), ('from', 'the', 'EC', 'was'), ('the', 'EC', 'was', 'advocated'), ('EC', 'was', 'advocated', 'mainly'), ('was', 'advocated', 'mainly', 'by'), ('advocated', 'mainly', 'by', 'Labour'), ('mainly', 'by', 'Labour', 'Party'), ('by', 'Labour', 'Party', 'members'), ('Labour', 'Party', 'members', 'and'), ('Party', 'members', 'and', 'figures'), ('members', 'and', 'figures', '.'), ('and', 'figures', '.', 'From'), ('figures', '.', 'From', 'the'), ('.', 'From', 'the', '1990s'), ('From', 'the', '1990s', ','), ('the', '1990s', ',', 'the'), ('1990s', ',', 'the', 'main'), (',', 'the', 'main', 'advocates'), ('the', 'main', 'advocates', 'of'), ('main', 'advocates', 'of', 'withdrawal'), ('advocates', 'of', 'withdrawal', 'were'), ('of', 'withdrawal', 'were', 'the'), ('withdrawal', 'were', 'the', 'newly'), ('were', 'the', 'newly', 'founded'), ('the', 'newly', 'founded', '('), ('newly', 'founded', '(', 'UKIP'), ('founded', '(', 'UKIP', ')'), ('(', 'UKIP', ')', 'and'), ('UKIP', ')', 'and', 'an'), (')', 'and', 'an', 'increasing'), ('and', 'an', 'increasing', 'number'), ('an', 'increasing', 'number', 'of'), ('increasing', 'number', 'of', 'Eurosceptic'), ('number', 'of', 'Eurosceptic', 'members'), ('of', 'Eurosceptic', 'members', '.'), ('Eurosceptic', 'members', '.', 'Prime'), ('members', '.', 'Prime', 'Minister'), ('.', 'Prime', 'Minister', 'held'), ('Prime', 'Minister', 'held', 'the'), ('Minister', 'held', 'the', 'referendum'), ('held', 'the', 'referendum', 'in'), ('the', 'referendum', 'in', 'fulfilment'), ('referendum', 'in', 'fulfilment', 'of'), ('in', 'fulfilment', 'of', 'a'), ('fulfilment', 'of', 'a', '2015'), ('of', 'a', '2015', 'manifesto'), ('a', '2015', 'manifesto', 'pledge'), ('2015', 'manifesto', 'pledge', '.'), ('manifesto', 'pledge', '.', 'Cameron'), ('pledge', '.', 'Cameron', ','), ('.', 'Cameron', ',', 'who'), ('Cameron', ',', 'who', 'had'), (',', 'who', 'had', 'campaigned'), ('who', 'had', 'campaigned', 'for'), ('had', 'campaigned', 'for', '``'), ('campaigned', 'for', '``', 'Remain'), ('for', '``', 'Remain', \"''\"), ('``', 'Remain', \"''\", ','), ('Remain', \"''\", ',', 'resigned'), (\"''\", ',', 'resigned', 'after'), (',', 'resigned', 'after', 'the'), ('resigned', 'after', 'the', 'referendum'), ('after', 'the', 'referendum', 'result'), ('the', 'referendum', 'result', 'and'), ('referendum', 'result', 'and', 'was'), ('result', 'and', 'was', 'succeeded'), ('and', 'was', 'succeeded', 'by'), ('was', 'succeeded', 'by', 'Theresa'), ('succeeded', 'by', 'Theresa', 'May'), ('by', 'Theresa', 'May', ','), ('Theresa', 'May', ',', 'who'), ('May', ',', 'who', 'called'), (',', 'who', 'called', 'a'), ('who', 'called', 'a', 'less'), ('called', 'a', 'less', 'than'), ('a', 'less', 'than', 'a'), ('less', 'than', 'a', 'year'), ('than', 'a', 'year', 'later'), ('a', 'year', 'later', ','), ('year', 'later', ',', 'in'), ('later', ',', 'in', 'which'), (',', 'in', 'which', 'she'), ('in', 'which', 'she', 'lost'), ('which', 'she', 'lost', 'her'), ('she', 'lost', 'her', 'overall'), ('lost', 'her', 'overall', 'majority'), ('her', 'overall', 'majority', '.'), ('overall', 'majority', '.', 'Her'), ('majority', '.', 'Her', 'minority'), ('.', 'Her', 'minority', 'government'), ('Her', 'minority', 'government', 'is'), ('minority', 'government', 'is', 'by'), ('government', 'is', 'by', 'the'), ('is', 'by', 'the', '.Six'), ('by', 'the', '.Six', 'weeks'), ('the', '.Six', 'weeks', 'after'), ('.Six', 'weeks', 'after', 'the'), ('weeks', 'after', 'the', 'referendum'), ('after', 'the', 'referendum', ','), ('the', 'referendum', ',', 'the'), ('referendum', ',', 'the', 'Bank'), (',', 'the', 'Bank', 'of'), ('the', 'Bank', 'of', 'England'), ('Bank', 'of', 'England', 'introduced'), ('of', 'England', 'introduced', 'and'), ('England', 'introduced', 'and', 'lower'), ('introduced', 'and', 'lower', 'interest'), ('and', 'lower', 'interest', 'rates'), ('lower', 'interest', 'rates', ','), ('interest', 'rates', ',', 'thus'), ('rates', ',', 'thus', 'allowing'), (',', 'thus', 'allowing', 'both'), ('thus', 'allowing', 'both', 'of'), ('allowing', 'both', 'of', 'and'), ('both', 'of', 'and', 'a'), ('of', 'and', 'a', 'rise'), ('and', 'a', 'rise', 'in'), ('a', 'rise', 'in', 'inflation'), ('rise', 'in', 'inflation', 'that'), ('in', 'inflation', 'that', 'outpaced'), ('inflation', 'that', 'outpaced', 'wage'), ('that', 'outpaced', 'wage', 'growth'), ('outpaced', 'wage', 'growth', 'for'), ('wage', 'growth', 'for', 'most'), ('growth', 'for', 'most', 'of'), ('for', 'most', 'of', '2017'), ('most', 'of', '2017', '.'), ('of', '2017', '.', 'The'), ('2017', '.', 'The', 'drop'), ('.', 'The', 'drop', 'in'), ('The', 'drop', 'in', 'the'), ('drop', 'in', 'the', 'value'), ('in', 'the', 'value', 'of'), ('the', 'value', 'of', 'sterling'), ('value', 'of', 'sterling', 'has'), ('of', 'sterling', 'has', 'been'), ('sterling', 'has', 'been', 'claimed'), ('has', 'been', 'claimed', 'to'), ('been', 'claimed', 'to', 'have'), ('claimed', 'to', 'have', 'been'), ('to', 'have', 'been', 'caused'), ('have', 'been', 'caused', 'in'), ('been', 'caused', 'in', 'part'), ('caused', 'in', 'part', 'by'), ('in', 'part', 'by', 'hedge-fund'), ('part', 'by', 'hedge-fund', 'managers'), ('by', 'hedge-fund', 'managers', 'betting'), ('hedge-fund', 'managers', 'betting', 'on'), ('managers', 'betting', 'on', 'Brexit'), ('betting', 'on', 'Brexit', 'against'), ('on', 'Brexit', 'against', 'polls'), ('Brexit', 'against', 'polls', 'predicting'), ('against', 'polls', 'predicting', 'a'), ('polls', 'predicting', 'a', 'narrow'), ('predicting', 'a', 'narrow', 'victory'), ('a', 'narrow', 'victory', 'for'), ('narrow', 'victory', 'for', 'the'), ('victory', 'for', 'the', '``'), ('for', 'the', '``', 'Remain'), ('the', '``', 'Remain', \"''\"), ('``', 'Remain', \"''\", 'camp'), ('Remain', \"''\", 'camp', '.'), (\"''\", 'camp', '.', 'There'), ('camp', '.', 'There', 'is'), ('.', 'There', 'is', 'a'), ('There', 'is', 'a', 'broad'), ('is', 'a', 'broad', 'consensus'), ('a', 'broad', 'consensus', 'in'), ('broad', 'consensus', 'in', 'existing'), ('consensus', 'in', 'existing', 'economic'), ('in', 'existing', 'economic', 'research'), ('existing', 'economic', 'research', 'that'), ('economic', 'research', 'that', 'Brexit'), ('research', 'that', 'Brexit', 'is'), ('that', 'Brexit', 'is', 'likely'), ('Brexit', 'is', 'likely', 'to'), ('is', 'likely', 'to', 'reduce'), ('likely', 'to', 'reduce', 'the'), ('to', 'reduce', 'the', 'UK'), ('reduce', 'the', 'UK', \"'s\"), ('the', 'UK', \"'s\", 'real'), ('UK', \"'s\", 'real', 'in'), (\"'s\", 'real', 'in', 'the'), ('real', 'in', 'the', 'medium'), ('in', 'the', 'medium', 'term'), ('the', 'medium', 'term', 'and'), ('medium', 'term', 'and', 'long'), ('term', 'and', 'long', 'term'), ('and', 'long', 'term', '.'), ('long', 'term', '.', 'There'), ('term', '.', 'There', 'is'), ('.', 'There', 'is', 'also'), ('There', 'is', 'also', 'agreement'), ('is', 'also', 'agreement', 'among'), ('also', 'agreement', 'among', 'economists'), ('agreement', 'among', 'economists', 'that'), ('among', 'economists', 'that', 'the'), ('economists', 'that', 'the', 'Brexit'), ('that', 'the', 'Brexit', 'referendum'), ('the', 'Brexit', 'referendum', 'itself'), ('Brexit', 'referendum', 'itself', 'damaged'), ('referendum', 'itself', 'damaged', 'the'), ('itself', 'damaged', 'the', 'economy'), ('damaged', 'the', 'economy', 'in'), ('the', 'economy', 'in', 'the'), ('economy', 'in', 'the', 'subsequent'), ('in', 'the', 'subsequent', 'two'), ('the', 'subsequent', 'two', 'years'), ('subsequent', 'two', 'years', '.'), ('two', 'years', '.', 'Studies'), ('years', '.', 'Studies', 'on'), ('.', 'Studies', 'on', 'effects'), ('Studies', 'on', 'effects', 'that'), ('on', 'effects', 'that', 'have'), ('effects', 'that', 'have', 'materialised'), ('that', 'have', 'materialised', 'since'), ('have', 'materialised', 'since', 'the'), ('materialised', 'since', 'the', 'referendum'), ('since', 'the', 'referendum', 'show'), ('the', 'referendum', 'show', 'annual'), ('referendum', 'show', 'annual', 'losses'), ('show', 'annual', 'losses', 'of'), ('annual', 'losses', 'of', '£404'), ('losses', 'of', '£404', 'for'), ('of', '£404', 'for', 'the'), ('£404', 'for', 'the', 'average'), ('for', 'the', 'average', 'UK'), ('the', 'average', 'UK', 'household'), ('average', 'UK', 'household', ','), ('UK', 'household', ',', 'and'), ('household', ',', 'and', 'losses'), (',', 'and', 'losses', 'between'), ('and', 'losses', 'between', '1.3'), ('losses', 'between', '1.3', '%'), ('between', '1.3', '%', 'and'), ('1.3', '%', 'and', '2.1'), ('%', 'and', '2.1', '%'), ('and', '2.1', '%', 'of'), ('2.1', '%', 'of', 'UK'), ('%', 'of', 'UK', 'GDP'), ('of', 'UK', 'GDP', '.'), ('UK', 'GDP', '.', 'Brexit'), ('GDP', '.', 'Brexit', 'is'), ('.', 'Brexit', 'is', 'likely'), ('Brexit', 'is', 'likely', 'to'), ('is', 'likely', 'to', 'reduce'), ('likely', 'to', 'reduce', 'immigration'), ('to', 'reduce', 'immigration', 'from'), ('reduce', 'immigration', 'from', '('), ('immigration', 'from', '(', 'EEA'), ('from', '(', 'EEA', ')'), ('(', 'EEA', ')', 'countries'), ('EEA', ')', 'countries', 'to'), (')', 'countries', 'to', 'the'), ('countries', 'to', 'the', 'UK'), ('to', 'the', 'UK', ','), ('the', 'UK', ',', 'and'), ('UK', ',', 'and', 'poses'), (',', 'and', 'poses', 'challenges'), ('and', 'poses', 'challenges', 'for'), ('poses', 'challenges', 'for', 'UK'), ('challenges', 'for', 'UK', 'higher'), ('for', 'UK', 'higher', 'education'), ('UK', 'higher', 'education', 'and'), ('higher', 'education', 'and', 'academic'), ('education', 'and', 'academic', 'research'), ('and', 'academic', 'research', '.'), ('academic', 'research', '.', 'As'), ('research', '.', 'As', 'of'), ('.', 'As', 'of', 'June'), ('As', 'of', 'June', '2018'), ('of', 'June', '2018', ','), ('June', '2018', ',', 'the'), ('2018', ',', 'the', 'size'), (',', 'the', 'size', 'of'), ('the', 'size', 'of', 'the'), ('size', 'of', 'the', '``'), ('of', 'the', '``', \"''\"), ('the', '``', \"''\", ','), ('``', \"''\", ',', 'the'), (\"''\", ',', 'the', 'UK'), (',', 'the', 'UK', \"'s\"), ('the', 'UK', \"'s\", 'inheritance'), ('UK', \"'s\", 'inheritance', 'of'), (\"'s\", 'inheritance', 'of', 'existing'), ('inheritance', 'of', 'existing', 'EU'), ('of', 'existing', 'EU', 'trade'), ('existing', 'EU', 'trade', 'agreements'), ('EU', 'trade', 'agreements', ','), ('trade', 'agreements', ',', 'and'), ('agreements', ',', 'and', 'and'), (',', 'and', 'and', 'other'), ('and', 'and', 'other', 'EU'), ('and', 'other', 'EU', 'member'), ('other', 'EU', 'member', 'states'), ('EU', 'member', 'states', 'remain'), ('member', 'states', 'remain', 'uncertain'), ('states', 'remain', 'uncertain', '.'), ('remain', 'uncertain', '.', 'The'), ('uncertain', '.', 'The', 'precise'), ('.', 'The', 'precise', 'impact'), ('The', 'precise', 'impact', 'on'), ('precise', 'impact', 'on', 'the'), ('impact', 'on', 'the', 'UK'), ('on', 'the', 'UK', 'depends'), ('the', 'UK', 'depends', 'on'), ('UK', 'depends', 'on', 'whether'), ('depends', 'on', 'whether', 'the'), ('on', 'whether', 'the', 'process'), ('whether', 'the', 'process', 'will'), ('the', 'process', 'will', 'be'), ('process', 'will', 'be', 'a'), ('will', 'be', 'a', '.')]\n"
     ]
    }
   ],
   "source": [
    "# Creating n grams from Brexit.docx\n",
    "print( 'n-grams with n=2', GetNGrams(2, txt))\n",
    "print('#'* 100)\n",
    "print( 'n-grams with n=3', GetNGrams(3, txt))\n",
    "print('#'* 100)\n",
    "print( 'n-grams with n=4', GetNGrams(4, txt))"
   ]
  },
  {
   "cell_type": "markdown",
   "id": "2eec33e0",
   "metadata": {},
   "source": [
    "2. Read the file “Brexit.docx” and write python functions which take a string as an input and returns:\n",
    "- Number of Nouns (all forms of noun). Take function name as “NounsCount”\n",
    "- Number of Pronouns (all forms). Take function name as “PronounsCount”\n",
    "- Number of Adjectives (all forms).Take function name as “AdjectivesCount”\n",
    "- Number of Verbs (all forms).Take function name as “VerbsCount”\n",
    "- Number of Adverbs (all forms).Take function name as “AdverbsCount”\n",
    "\n",
    "Plot a pie chart showing the distribution of nouns, pronouns, verbs, adverbsand adjectives."
   ]
  },
  {
   "cell_type": "code",
   "execution_count": 26,
   "id": "35e75f37",
   "metadata": {},
   "outputs": [
    {
     "name": "stdout",
     "output_type": "stream",
     "text": [
      "$: dollar\n",
      "    $ -$ --$ A$ C$ HK$ M$ NZ$ S$ U.S.$ US$\n",
      "'': closing quotation mark\n",
      "    ' ''\n",
      "(: opening parenthesis\n",
      "    ( [ {\n",
      "): closing parenthesis\n",
      "    ) ] }\n",
      ",: comma\n",
      "    ,\n",
      "--: dash\n",
      "    --\n",
      ".: sentence terminator\n",
      "    . ! ?\n",
      ":: colon or ellipsis\n",
      "    : ; ...\n",
      "CC: conjunction, coordinating\n",
      "    & 'n and both but either et for less minus neither nor or plus so\n",
      "    therefore times v. versus vs. whether yet\n",
      "CD: numeral, cardinal\n",
      "    mid-1890 nine-thirty forty-two one-tenth ten million 0.5 one forty-\n",
      "    seven 1987 twenty '79 zero two 78-degrees eighty-four IX '60s .025\n",
      "    fifteen 271,124 dozen quintillion DM2,000 ...\n",
      "DT: determiner\n",
      "    all an another any both del each either every half la many much nary\n",
      "    neither no some such that the them these this those\n",
      "EX: existential there\n",
      "    there\n",
      "FW: foreign word\n",
      "    gemeinschaft hund ich jeux habeas Haementeria Herr K'ang-si vous\n",
      "    lutihaw alai je jour objets salutaris fille quibusdam pas trop Monte\n",
      "    terram fiche oui corporis ...\n",
      "IN: preposition or conjunction, subordinating\n",
      "    astride among uppon whether out inside pro despite on by throughout\n",
      "    below within for towards near behind atop around if like until below\n",
      "    next into if beside ...\n",
      "JJ: adjective or numeral, ordinal\n",
      "    third ill-mannered pre-war regrettable oiled calamitous first separable\n",
      "    ectoplasmic battery-powered participatory fourth still-to-be-named\n",
      "    multilingual multi-disciplinary ...\n",
      "JJR: adjective, comparative\n",
      "    bleaker braver breezier briefer brighter brisker broader bumper busier\n",
      "    calmer cheaper choosier cleaner clearer closer colder commoner costlier\n",
      "    cozier creamier crunchier cuter ...\n",
      "JJS: adjective, superlative\n",
      "    calmest cheapest choicest classiest cleanest clearest closest commonest\n",
      "    corniest costliest crassest creepiest crudest cutest darkest deadliest\n",
      "    dearest deepest densest dinkiest ...\n",
      "LS: list item marker\n",
      "    A A. B B. C C. D E F First G H I J K One SP-44001 SP-44002 SP-44005\n",
      "    SP-44007 Second Third Three Two * a b c d first five four one six three\n",
      "    two\n",
      "MD: modal auxiliary\n",
      "    can cannot could couldn't dare may might must need ought shall should\n",
      "    shouldn't will would\n",
      "NN: noun, common, singular or mass\n",
      "    common-carrier cabbage knuckle-duster Casino afghan shed thermostat\n",
      "    investment slide humour falloff slick wind hyena override subhumanity\n",
      "    machinist ...\n",
      "NNP: noun, proper, singular\n",
      "    Motown Venneboerger Czestochwa Ranzer Conchita Trumplane Christos\n",
      "    Oceanside Escobar Kreisler Sawyer Cougar Yvette Ervin ODI Darryl CTCA\n",
      "    Shannon A.K.C. Meltex Liverpool ...\n",
      "NNPS: noun, proper, plural\n",
      "    Americans Americas Amharas Amityvilles Amusements Anarcho-Syndicalists\n",
      "    Andalusians Andes Andruses Angels Animals Anthony Antilles Antiques\n",
      "    Apache Apaches Apocrypha ...\n",
      "NNS: noun, common, plural\n",
      "    undergraduates scotches bric-a-brac products bodyguards facets coasts\n",
      "    divestitures storehouses designs clubs fragrances averages\n",
      "    subjectivists apprehensions muses factory-jobs ...\n",
      "PDT: pre-determiner\n",
      "    all both half many quite such sure this\n",
      "POS: genitive marker\n",
      "    ' 's\n",
      "PRP: pronoun, personal\n",
      "    hers herself him himself hisself it itself me myself one oneself ours\n",
      "    ourselves ownself self she thee theirs them themselves they thou thy us\n",
      "PRP$: pronoun, possessive\n",
      "    her his mine my our ours their thy your\n",
      "RB: adverb\n",
      "    occasionally unabatingly maddeningly adventurously professedly\n",
      "    stirringly prominently technologically magisterially predominately\n",
      "    swiftly fiscally pitilessly ...\n",
      "RBR: adverb, comparative\n",
      "    further gloomier grander graver greater grimmer harder harsher\n",
      "    healthier heavier higher however larger later leaner lengthier less-\n",
      "    perfectly lesser lonelier longer louder lower more ...\n",
      "RBS: adverb, superlative\n",
      "    best biggest bluntest earliest farthest first furthest hardest\n",
      "    heartiest highest largest least less most nearest second tightest worst\n",
      "RP: particle\n",
      "    aboard about across along apart around aside at away back before behind\n",
      "    by crop down ever fast for forth from go high i.e. in into just later\n",
      "    low more off on open out over per pie raising start teeth that through\n",
      "    under unto up up-pp upon whole with you\n",
      "SYM: symbol\n",
      "    % & ' '' ''. ) ). * + ,. < = > @ A[fj] U.S U.S.S.R * ** ***\n",
      "TO: \"to\" as preposition or infinitive marker\n",
      "    to\n",
      "UH: interjection\n",
      "    Goodbye Goody Gosh Wow Jeepers Jee-sus Hubba Hey Kee-reist Oops amen\n",
      "    huh howdy uh dammit whammo shucks heck anyways whodunnit honey golly\n",
      "    man baby diddle hush sonuvabitch ...\n",
      "VB: verb, base form\n",
      "    ask assemble assess assign assume atone attention avoid bake balkanize\n",
      "    bank begin behold believe bend benefit bevel beware bless boil bomb\n",
      "    boost brace break bring broil brush build ...\n",
      "VBD: verb, past tense\n",
      "    dipped pleaded swiped regummed soaked tidied convened halted registered\n",
      "    cushioned exacted snubbed strode aimed adopted belied figgered\n",
      "    speculated wore appreciated contemplated ...\n",
      "VBG: verb, present participle or gerund\n",
      "    telegraphing stirring focusing angering judging stalling lactating\n",
      "    hankerin' alleging veering capping approaching traveling besieging\n",
      "    encrypting interrupting erasing wincing ...\n",
      "VBN: verb, past participle\n",
      "    multihulled dilapidated aerosolized chaired languished panelized used\n",
      "    experimented flourished imitated reunifed factored condensed sheared\n",
      "    unsettled primed dubbed desired ...\n",
      "VBP: verb, present tense, not 3rd person singular\n",
      "    predominate wrap resort sue twist spill cure lengthen brush terminate\n",
      "    appear tend stray glisten obtain comprise detest tease attract\n",
      "    emphasize mold postpone sever return wag ...\n",
      "VBZ: verb, present tense, 3rd person singular\n",
      "    bases reconstructs marks mixes displeases seals carps weaves snatches\n",
      "    slumps stretches authorizes smolders pictures emerges stockpiles\n",
      "    seduces fizzes uses bolsters slaps speaks pleads ...\n",
      "WDT: WH-determiner\n",
      "    that what whatever which whichever\n",
      "WP: WH-pronoun\n",
      "    that what whatever whatsoever which who whom whosoever\n",
      "WP$: WH-pronoun, possessive\n",
      "    whose\n",
      "WRB: Wh-adverb\n",
      "    how however whence whenever where whereby whereever wherein whereof why\n",
      "``: opening quotation mark\n",
      "    ` ``\n"
     ]
    }
   ],
   "source": [
    "# Checking all tags\n",
    "nltk.help.upenn_tagset()"
   ]
  },
  {
   "cell_type": "code",
   "execution_count": 43,
   "id": "42f10a39",
   "metadata": {},
   "outputs": [],
   "source": [
    "# Creating functions to find no. of all forms of POS\n",
    "from collections import Counter\n",
    "\n",
    "def NounsCount(txt):\n",
    "    word_tok= word_tokenize(txt)\n",
    "    tagged= nltk.pos_tag(word_tok)\n",
    "    return Counter('Noun' for w,t in tagged if t.startswith('NN'))['Noun']\n",
    "    \n",
    "def PronounsCount(txt):\n",
    "    word_tok= word_tokenize(txt)\n",
    "    tagged= nltk.pos_tag(word_tok)\n",
    "    return Counter('Pronoun' for w,t in tagged if t.startswith('PRP'))['Pronoun']\n",
    "    \n",
    "def AdjectivesCount(txt):\n",
    "    word_tok= word_tokenize(txt)\n",
    "    tagged= nltk.pos_tag(word_tok)\n",
    "    return Counter('Adjective' for w,t in tagged if t.startswith('JJ'))['Adjective']\n",
    "\n",
    "def VerbsCount(txt):\n",
    "    word_tok= word_tokenize(txt)\n",
    "    tagged= nltk.pos_tag(word_tok)\n",
    "    return Counter('Verb' for w,t in tagged if t.startswith('VB'))['Verb']\n",
    "\n",
    "def AdverbsCount(txt):\n",
    "    word_tok= word_tokenize(txt)\n",
    "    tagged= nltk.pos_tag(word_tok)\n",
    "    return Counter('Adverb' for w,t in tagged if t.startswith('RB'))['Adverb']"
   ]
  },
  {
   "cell_type": "code",
   "execution_count": 54,
   "id": "8cc8d088",
   "metadata": {},
   "outputs": [
    {
     "name": "stdout",
     "output_type": "stream",
     "text": [
      "Brexit is the impending  of the  (UK) from the  (EU). In a , a majority of British voters supported leaving the EU. On 29 March 2017, the  invoked . The  declares \"exit day\" to be 29 March 2019 at 11 p.m. ().Prime Minister  announced the government's intention not to seek permanent membership of the  or the  after leaving the EU and promised to  the  and incorporate existing  into . A new government department, the , was created in July 2016. officially started in June 2017, aiming to complete the withdrawal agreement by October 2018. In June 2018, the UK and the EU published a joint progress report outlining agreement on issues including ,  and Euratom.The UK joined the  (EC) in 1973, with membership confirmed by a . In the 1970s and 1980s, withdrawal from the EC was advocated mainly by Labour Party members and  figures. From the 1990s, the main advocates of withdrawal were the newly founded  (UKIP) and an increasing number of Eurosceptic  members. Prime Minister  held the referendum in fulfilment of a 2015 manifesto pledge. Cameron, who had campaigned for \"Remain\", resigned after the referendum result and was succeeded by Theresa May, who called a  less than a year later, in which she lost her overall majority. Her minority government is  by the .Six weeks after the referendum, the Bank of England introduced  and lower interest rates, thus allowing both  of  and a rise in inflation that outpaced wage growth for most of 2017. The drop in the value of sterling has been claimed to have been caused in part by hedge-fund managers betting on Brexit against polls predicting a narrow victory for the \"Remain\" camp. There is a broad consensus in existing economic research that Brexit is likely to reduce the UK's real  in the medium term and long term. There is also agreement among economists that the Brexit referendum itself damaged the economy in the subsequent two years. Studies on effects that have materialised since the referendum show annual losses of £404 for the average UK household, and losses between 1.3% and 2.1% of UK GDP. Brexit is likely to reduce immigration from  (EEA) countries to the UK, and poses challenges for UK higher education and academic research. As of June 2018, the size of the \"\", the UK's inheritance of existing EU trade agreements, and  and other EU member states remain uncertain. The precise impact on the UK depends on whether the process will be a .\n"
     ]
    }
   ],
   "source": [
    "# Brexit.docx\n",
    "print(txt)"
   ]
  },
  {
   "cell_type": "code",
   "execution_count": 53,
   "id": "a2dab4e1",
   "metadata": {},
   "outputs": [
    {
     "data": {
      "image/png": "[encoded data removed]",
      "text/plain": [
       "<Figure size 792x504 with 1 Axes>"
      ]
     },
     "metadata": {},
     "output_type": "display_data"
    }
   ],
   "source": [
    "# Getting counts and plotting piechart\n",
    "noun_count= NounsCount(txt)\n",
    "pronoun_count= PronounsCount(txt)\n",
    "adj_count= AdjectivesCount(txt)\n",
    "verb_count= VerbsCount(txt)\n",
    "adverb_count= AdverbsCount(txt)\n",
    "\n",
    "import matplotlib.pyplot as plt\n",
    "plt.figure(figsize=[11,7])\n",
    "labels= ['Nouns', 'Pronouns', 'Adjectives','Verbs','Adverbs']\n",
    "plt.pie([noun_count, pronoun_count, adj_count, verb_count, adverb_count], autopct= '%1.0f%%', labels= labels)\n",
    "plt.title('Pie chart showing the distribution of nouns, pronouns, verbs, adverbs and adjectives')\n",
    "plt.show()"
   ]
  },
  {
   "cell_type": "markdown",
   "id": "a1ae4ddd",
   "metadata": {},
   "source": [
    "3. Read the file “Brexit.docx” and write python functions which take a string as an input and returns:\n",
    "- Number of geo-Political entities present in the file.Take function name as “GeoPoliticalCount”\n",
    "- Number of Persons present in the file. Take function name as “PersonsCount”\n",
    "- Numbers of Organizations mentioned in the file.Take function name as “OrganizationsCount”\n"
   ]
  },
  {
   "cell_type": "code",
   "execution_count": 92,
   "id": "04212bcd",
   "metadata": {},
   "outputs": [],
   "source": [
    "def GeoPoliticalCount(txt):\n",
    "    word_tok= word_tokenize(txt)\n",
    "    tagged= nltk.pos_tag(word_tok)\n",
    "    ne=  nltk.ne_chunk(tagged)\n",
    "    i=0\n",
    "    for ent in ne:\n",
    "        if hasattr(ent, 'label'):\n",
    "            if ent.label()== 'GPE':\n",
    "                i+=1\n",
    "    return i\n",
    "\n",
    "\n",
    "def PersonsCount(txt):\n",
    "    word_tok= word_tokenize(txt)\n",
    "    tagged= nltk.pos_tag(word_tok)\n",
    "    ne=  nltk.ne_chunk(tagged)\n",
    "    i=0\n",
    "    for ent in ne:\n",
    "        if hasattr(ent, 'label'):\n",
    "            if ent.label()== 'PERSON':\n",
    "                i+=1\n",
    "    return i\n",
    "\n",
    "\n",
    "def OrganizationsCount(txt):\n",
    "    word_tok= word_tokenize(txt)\n",
    "    tagged= nltk.pos_tag(word_tok)\n",
    "    ne=  nltk.ne_chunk(tagged)\n",
    "    i=0\n",
    "    for ent in ne:\n",
    "        if hasattr(ent, 'label'):\n",
    "            if ent.label()== 'ORGANIZATION':\n",
    "                i+=1\n",
    "    return i\n",
    "    "
   ]
  },
  {
   "cell_type": "code",
   "execution_count": 93,
   "id": "73d77c36",
   "metadata": {},
   "outputs": [
    {
     "name": "stdout",
     "output_type": "stream",
     "text": [
      "Number of geo-Political entities present: 11\n",
      "Number of Persons present: 4\n",
      "Numbers of Organizations mentioned: 13\n"
     ]
    }
   ],
   "source": [
    "print('Number of geo-Political entities present:', GeoPoliticalCount(txt))\n",
    "print('Number of Persons present:', PersonsCount(txt))\n",
    "print('Numbers of Organizations mentioned:', OrganizationsCount(txt))"
   ]
  },
  {
   "cell_type": "markdown",
   "id": "f4402791",
   "metadata": {},
   "source": [
    "4. Answer the following questions:\n",
    "- Most frequent bi-gram from the data\n",
    "- Most frequent Noun \n",
    "- Most frequent GeoPolitical Entity\n",
    "- Most frequent person\n"
   ]
  },
  {
   "cell_type": "code",
   "execution_count": 97,
   "id": "832c0ba4",
   "metadata": {},
   "outputs": [
    {
     "data": {
      "text/plain": [
       "[((',', 'the'), 7), (('the', 'UK'), 5), ((',', 'and'), 4)]"
      ]
     },
     "execution_count": 97,
     "metadata": {},
     "output_type": "execute_result"
    }
   ],
   "source": [
    "# Most frequent bi-gram from the data\n",
    "nltk.FreqDist(GetNGrams(2, txt)).most_common(3)"
   ]
  },
  {
   "cell_type": "markdown",
   "id": "209c86dc",
   "metadata": {},
   "source": [
    "If we do not exclude punctuations (as not mentioned here to remove punctuations) then **',','the'** is the most appeared bi-gram otherwise **'the','UK'**"
   ]
  },
  {
   "cell_type": "code",
   "execution_count": 102,
   "id": "ac2ded72",
   "metadata": {},
   "outputs": [
    {
     "data": {
      "text/plain": [
       "[('UK', 10)]"
      ]
     },
     "execution_count": 102,
     "metadata": {},
     "output_type": "execute_result"
    }
   ],
   "source": [
    "# Most frequent Noun\n",
    "word_tok= word_tokenize(txt)\n",
    "tagged= nltk.pos_tag(word_tok)\n",
    "nltk.FreqDist([w for w,t in tagged if t.startswith('NN')]).most_common(1)"
   ]
  },
  {
   "cell_type": "code",
   "execution_count": 112,
   "id": "882988eb",
   "metadata": {},
   "outputs": [
    {
     "data": {
      "text/plain": [
       "[('EU', 6)]"
      ]
     },
     "execution_count": 112,
     "metadata": {},
     "output_type": "execute_result"
    }
   ],
   "source": [
    "# Most frequent GeoPolitical Entity\n",
    "word_tok= word_tokenize(txt)\n",
    "tagged= nltk.pos_tag(word_tok)\n",
    "ne=  nltk.ne_chunk(tagged)\n",
    "gpe=[]\n",
    "for ent in ne:\n",
    "    if hasattr(ent, 'label'):\n",
    "        if ent.label()== 'GPE':\n",
    "            gpe.append(ent[0][0])\n",
    "\n",
    "nltk.FreqDist(gpe).most_common(1)"
   ]
  },
  {
   "cell_type": "code",
   "execution_count": 114,
   "id": "e32442c2",
   "metadata": {},
   "outputs": [
    {
     "data": {
      "text/plain": [
       "[('Brexit', 2)]"
      ]
     },
     "execution_count": 114,
     "metadata": {},
     "output_type": "execute_result"
    }
   ],
   "source": [
    "# Most frequent person\n",
    "word_tok= word_tokenize(txt)\n",
    "tagged= nltk.pos_tag(word_tok)\n",
    "ne=  nltk.ne_chunk(tagged)\n",
    "gpe=[]\n",
    "for ent in ne:\n",
    "    if hasattr(ent, 'label'):\n",
    "        if ent.label()== 'PERSON':\n",
    "            gpe.append(ent[0][0])\n",
    "\n",
    "nltk.FreqDist(gpe).most_common(1)"
   ]
  }
 ],
 "metadata": {
  "kernelspec": {
   "display_name": "Python 3",
   "language": "python",
   "name": "python3"
  },
  "language_info": {
   "codemirror_mode": {
    "name": "ipython",
    "version": 3
   },
   "file_extension": ".py",
   "mimetype": "text/x-python",
   "name": "python",
   "nbconvert_exporter": "python",
   "pygments_lexer": "ipython3",
   "version": "3.8.8"
  }
 },
 "nbformat": 4,
 "nbformat_minor": 5
}
